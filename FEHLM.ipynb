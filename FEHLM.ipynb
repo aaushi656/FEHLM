{
  "nbformat": 4,
  "nbformat_minor": 0,
  "metadata": {
    "colab": {
      "provenance": [],
      "authorship_tag": "ABX9TyP3Z3gu/UMlW2QwyNCg2gkq",
      "include_colab_link": true
    },
    "kernelspec": {
      "name": "python3",
      "display_name": "Python 3"
    },
    "language_info": {
      "name": "python"
    }
  },
  "cells": [
    {
      "cell_type": "markdown",
      "metadata": {
        "id": "view-in-github",
        "colab_type": "text"
      },
      "source": [
        "<a href=\"https://colab.research.google.com/github/aaushi656/FEHLM/blob/main/FEHLM.ipynb\" target=\"_parent\"><img src=\"https://colab.research.google.com/assets/colab-badge.svg\" alt=\"Open In Colab\"/></a>"
      ]
    },
    {
      "cell_type": "markdown",
      "source": [
        "# FILES, EXCEPTIONAL HANDLING,LOGGING AND MEMORY MANAGEMENT ASSIGNMENT"
      ],
      "metadata": {
        "id": "tVtILKbcN7gS"
      }
    },
    {
      "cell_type": "markdown",
      "source": [
        "# **THEORY QUESTIONS**"
      ],
      "metadata": {
        "id": "iUxW7MmrOtE8"
      }
    },
    {
      "cell_type": "markdown",
      "source": [
        "**Question 1:What is the difference between interpreted and compiled languages?**"
      ],
      "metadata": {
        "id": "ZvWgiWx9O1eg"
      }
    },
    {
      "cell_type": "markdown",
      "source": [
        "**Answer:**\n",
        "Difference between interpreted and compiled languages:\n",
        "\n",
        "Interpreted: Code is executed line by line (e.g., Python).\n",
        "\n",
        "Compiled: Code is converted into machine code before execution (e.g., C++)."
      ],
      "metadata": {
        "id": "LRdCa3cDQdci"
      }
    },
    {
      "cell_type": "markdown",
      "source": [
        "**Question 2: What is exception handling in Python?**"
      ],
      "metadata": {
        "id": "z1GTAwedQs6o"
      }
    },
    {
      "cell_type": "markdown",
      "source": [
        "**Answer:**Exception handling is a mechanism to handle runtime errors gracefully using try, except, else, and finally blocks."
      ],
      "metadata": {
        "id": "uJmoXLbVQ0P7"
      }
    },
    {
      "cell_type": "markdown",
      "source": [
        "**Question 3:What is the purpose of the finally block in exception handling?**"
      ],
      "metadata": {
        "id": "_W02LzMWRcWz"
      }
    },
    {
      "cell_type": "markdown",
      "source": [
        "**Answer:**The finally block always executes after try and except blocks, regardless of whether an exception occurred. It's used for cleanup code that must run."
      ],
      "metadata": {
        "id": "cXVcpbnrRkEs"
      }
    },
    {
      "cell_type": "markdown",
      "source": [
        "**Question 4:What is logging in Python?**"
      ],
      "metadata": {
        "id": "i50WOCQNRrax"
      }
    },
    {
      "cell_type": "markdown",
      "source": [
        "**Answer:**Logging is a systematic way to record events that happen during program execution for debugging and monitoring purposes."
      ],
      "metadata": {
        "id": "BpuqyHTCRyKg"
      }
    },
    {
      "cell_type": "markdown",
      "source": [
        "**Question 5:What is the significance of the __del__ method in Python?**"
      ],
      "metadata": {
        "id": "Hvm842KRR4-G"
      }
    },
    {
      "cell_type": "markdown",
      "source": [
        "**Answer:**`__del__` is a destructor method called when an object is about to be destroyed. It's used for cleanup operations."
      ],
      "metadata": {
        "id": "V5tPX5JFR__v"
      }
    },
    {
      "cell_type": "markdown",
      "source": [
        "**Question 6:What is the difference between import and from ... import in Python?**"
      ],
      "metadata": {
        "id": "VdOh2OMVSMLC"
      }
    },
    {
      "cell_type": "markdown",
      "source": [
        "**Answer:**`import module` imports the entire module, while `from module import name` imports specific names directly into the current namespace."
      ],
      "metadata": {
        "id": "i4yXaKxuSU4F"
      }
    },
    {
      "cell_type": "markdown",
      "source": [
        "**Question 7:How can you handle multiple exceptions in Python?**"
      ],
      "metadata": {
        "id": "ubf-A88BSa88"
      }
    },
    {
      "cell_type": "markdown",
      "source": [
        "**Answer:**Multiple exceptions can be handled by:\n",
        "```python\n",
        "try:\n",
        "    # code\n",
        "    except (Exception1, Exception2) as e:\n",
        "        # handle\n",
        "        ```\n",
        "        or separate except blocks for each exception."
      ],
      "metadata": {
        "id": "U5z64_4rSiqA"
      }
    },
    {
      "cell_type": "markdown",
      "source": [
        "**Question 8:What is the purpose of the with statement when handling files in Python?**"
      ],
      "metadata": {
        "id": "0CF4BQ8NSppv"
      }
    },
    {
      "cell_type": "markdown",
      "source": [
        "**Answer:** The `with` statement ensures proper resource management (like file closing) by calling `__enter__` and `__exit__` methods automatically."
      ],
      "metadata": {
        "id": "wCg9J6RZSxDP"
      }
    },
    {
      "cell_type": "markdown",
      "source": [
        "**Question 9:What is the difference between multithreading and multiprocessing?**"
      ],
      "metadata": {
        "id": "1Co7T-rTTBIa"
      }
    },
    {
      "cell_type": "markdown",
      "source": [
        "**Answer:**Difference between multithreading and multiprocessing\n",
        "\n",
        "Multithreading runs threads in the same memory space (good for I/O-bound tasks), while multiprocessing uses separate memory spaces (good for CPU-bound tasks)."
      ],
      "metadata": {
        "id": "Wg5z1m7yTJP9"
      }
    },
    {
      "cell_type": "markdown",
      "source": [
        "**Question 10:What are the advantages of using logging in a program?**"
      ],
      "metadata": {
        "id": "D6PLP3DiTZt4"
      }
    },
    {
      "cell_type": "markdown",
      "source": [
        "**Answer:**Advantages of logging\n",
        "- Debugging assistance\n",
        "- Monitoring program execution\n",
        "- Recording errors for analysis\n",
        "- Better than print statements as it's configurable and persistent"
      ],
      "metadata": {
        "id": "Bnk1ks5_TiUA"
      }
    },
    {
      "cell_type": "markdown",
      "source": [
        "**Question 11:What is memory management in Python?**"
      ],
      "metadata": {
        "id": "DLFo0lDcTqNu"
      }
    },
    {
      "cell_type": "markdown",
      "source": [
        "**Answer:**Python's memory management handles allocation and deallocation of memory automatically using a private heap and garbage collection."
      ],
      "metadata": {
        "id": "h4BBPtaqTv6x"
      }
    },
    {
      "cell_type": "markdown",
      "source": [
        "**Question 12:What are the basic steps involved in exception handling in Python?**"
      ],
      "metadata": {
        "id": "8o6MfMk2T4TS"
      }
    },
    {
      "cell_type": "markdown",
      "source": [
        "**Answer:**Basic steps in exception handling\n",
        "1. Code in try block executes\n",
        "2. If exception occurs, remaining try code is skipped\n",
        "3. Matching except block executes\n",
        "4. If no exception, else block executes\n",
        "5. finally block always executes\n"
      ],
      "metadata": {
        "id": "aGFnFX3DT-zP"
      }
    },
    {
      "cell_type": "markdown",
      "source": [
        "**Question 13:Why is memory management important in Python?**"
      ],
      "metadata": {
        "id": "yxuwKfy8UES-"
      }
    },
    {
      "cell_type": "markdown",
      "source": [
        "**Answer:**Importance of memory management\n",
        "- Prevents memory leaks\n",
        "- Optimizes performance\n",
        "- Ensures efficient resource utilization\n",
        "- Prevents crashes from memory exhaustion"
      ],
      "metadata": {
        "id": "TkCzv3pBUJ5G"
      }
    },
    {
      "cell_type": "markdown",
      "source": [
        "**Question 14:What is the role of try and except in exception handling?**"
      ],
      "metadata": {
        "id": "S96XHtsjUPEy"
      }
    },
    {
      "cell_type": "markdown",
      "source": [
        "**Answer:**Role of try and except:\n",
        "\n",
        "`try` contains code that might raise exceptions, `except` contains code to handle those exceptions."
      ],
      "metadata": {
        "id": "EimhtJz3UV8x"
      }
    },
    {
      "cell_type": "markdown",
      "source": [
        "**Question 15:How does Python's garbage collection system work?**"
      ],
      "metadata": {
        "id": "dXTrM_9PUo0a"
      }
    },
    {
      "cell_type": "markdown",
      "source": [
        "**Answer:**Python uses reference counting (objects deleted when reference count reaches 0) and a generational garbage collector for cyclic references."
      ],
      "metadata": {
        "id": "jcuZV1jWU0iT"
      }
    },
    {
      "cell_type": "markdown",
      "source": [
        "**Question 16:What is the purpose of the else block in exception handling?**"
      ],
      "metadata": {
        "id": "uFWTKIwVU8JF"
      }
    },
    {
      "cell_type": "markdown",
      "source": [
        "**Answer:**Purpose of else block in exception handling\n",
        "The else block executes only if no exceptions were raised in the try block."
      ],
      "metadata": {
        "id": "-rznIid6VCgU"
      }
    },
    {
      "cell_type": "markdown",
      "source": [
        "**Question 17:What are the common logging levels in Python?**"
      ],
      "metadata": {
        "id": "GytC9oNBVJJx"
      }
    },
    {
      "cell_type": "markdown",
      "source": [
        "**Answer:**Common logging levels:\n",
        "- DEBUG: Detailed info for debugging\n",
        "- INFO: Confirmation of things working\n",
        "- WARNING: Indication of potential issues\n",
        "- ERROR: Serious problems\n",
        "- CRITICAL: Critical errors"
      ],
      "metadata": {
        "id": "QdJzRbeEVOsI"
      }
    },
    {
      "cell_type": "markdown",
      "source": [
        "**Question 18:What is the difference between os.fork() and multiprocessing in Python?**"
      ],
      "metadata": {
        "id": "cFbH8rJyVYHW"
      }
    },
    {
      "cell_type": "markdown",
      "source": [
        "**Answer:Difference between os.fork() and multiprocessing:\n",
        "\n",
        "`os.fork()` creates a child process by duplicating the parent process (Unix only), while multiprocessing is cross-platform and provides higher-level interfaces."
      ],
      "metadata": {
        "id": "yX71JcwHVdqh"
      }
    },
    {
      "cell_type": "markdown",
      "source": [
        "**Question 19:What is the importance of closing a file in Python?**"
      ],
      "metadata": {
        "id": "GMfscNNSX-tV"
      }
    },
    {
      "cell_type": "markdown",
      "source": [
        "**Answer:**Importance of closing a file\n",
        "- Releases system resources\n",
        "- Ensures all data is written\n",
        "- Prevents data corruption\n",
        "- Avoids file locking issues"
      ],
      "metadata": {
        "id": "0EZdBQULYESJ"
      }
    },
    {
      "cell_type": "markdown",
      "source": [
        "**Question 20:What is the difference between file.read() and file.readline() in Python?**"
      ],
      "metadata": {
        "id": "UwwwOnO4YKH8"
      }
    },
    {
      "cell_type": "code",
      "source": [
        "**Answer:**Difference between file.read() and file.readline()\n",
        "\n",
        "`read()` reads the entire file content as a string, while `readline()` reads just one line at a time.\n"
      ],
      "metadata": {
        "id": "6b6l98CJYPog"
      },
      "execution_count": null,
      "outputs": []
    },
    {
      "cell_type": "markdown",
      "source": [
        "**Question 21:What is the logging module in Python used for?**"
      ],
      "metadata": {
        "id": "_-xci6ZWYkIY"
      }
    },
    {
      "cell_type": "markdown",
      "source": [
        "**Answer:**Purpose of logging module:\n",
        "\n",
        "The logging module provides a flexible framework for emitting log messages from Python programs.\n"
      ],
      "metadata": {
        "id": "hV8kIqktYsZ2"
      }
    },
    {
      "cell_type": "markdown",
      "source": [
        "**Question 22:What is the os module in Python used for in file handling?**"
      ],
      "metadata": {
        "id": "C7bHJpWwYzS0"
      }
    },
    {
      "cell_type": "markdown",
      "source": [
        "**Answer:**The os module provides operating system-dependent functionality including file operations like renaming, deleting, checking existence, etc."
      ],
      "metadata": {
        "id": "MhTF2huHZDSn"
      }
    },
    {
      "cell_type": "markdown",
      "source": [
        "**Question 23:What are the challenges associated with memory management in Python?**"
      ],
      "metadata": {
        "id": "NqoHTglfZIEp"
      }
    },
    {
      "cell_type": "markdown",
      "source": [
        "**Answer:**Challenges in memory management\n",
        "- Memory leaks from circular references\n",
        "- High memory usage from large objects\n",
        "- Garbage collection overhead\n",
        "- Difficulty in tracking memory usage"
      ],
      "metadata": {
        "id": "q6xi49VEZOji"
      }
    },
    {
      "cell_type": "markdown",
      "source": [
        "**Question 24:How do you raise an exception manually in Python?**"
      ],
      "metadata": {
        "id": "mIb1PHs0ZT6c"
      }
    },
    {
      "cell_type": "markdown",
      "source": [
        "**Answer:**Raising exceptions manually\n",
        "\n",
        "Use the `raise` keyword:\n",
        "```python\n",
        "raise ValueError(\"Invalid value\")\n",
        "```"
      ],
      "metadata": {
        "id": "H-vZXfBDZdvF"
      }
    },
    {
      "cell_type": "markdown",
      "source": [
        "**Question 25:Why is it important to use multithreading in certain applications?**"
      ],
      "metadata": {
        "id": "ZopGwq9SZrAV"
      }
    },
    {
      "cell_type": "markdown",
      "source": [
        "**Answer:**Importance of multithreading\n",
        "- Improves performance for I/O-bound tasks\n",
        "- Allows responsive UIs during long operations\n",
        "- Enables concurrent operations\n",
        "- Better CPU utilization\n"
      ],
      "metadata": {
        "id": "CxX8aEjkZwee"
      }
    },
    {
      "cell_type": "markdown",
      "source": [
        "# **PRACTICAL QUESTIONS:**"
      ],
      "metadata": {
        "id": "gLVWPrDJaHGr"
      }
    },
    {
      "cell_type": "markdown",
      "source": [
        "**Question 1:How can you open a file for writing in Python and write a string to it?**"
      ],
      "metadata": {
        "id": "OkBE4Mrka76I"
      }
    },
    {
      "cell_type": "code",
      "source": [
        "with open(\"file.txt\", \"w\") as f:\n",
        "  f.write(\"Hello, World!\")"
      ],
      "metadata": {
        "id": "Bul9hdHpbGJN"
      },
      "execution_count": null,
      "outputs": []
    },
    {
      "cell_type": "markdown",
      "source": [
        "**Question 2:Write a Python program to read the contents of a file and print each line.**"
      ],
      "metadata": {
        "id": "yAy1GZZ2bTe4"
      }
    },
    {
      "cell_type": "code",
      "source": [
        "with open(\"file.txt\") as f:\n",
        "  for line in f:\n",
        "              print(line.strip())"
      ],
      "metadata": {
        "colab": {
          "base_uri": "https://localhost:8080/"
        },
        "id": "2tSOa4Wgbc_c",
        "outputId": "570132a6-4ea8-4f3f-e85c-fe4122b0d349"
      },
      "execution_count": null,
      "outputs": [
        {
          "output_type": "stream",
          "name": "stdout",
          "text": [
            "Hello, World!\n"
          ]
        }
      ]
    },
    {
      "cell_type": "markdown",
      "source": [
        "**Question 3:How would you handle a case where the file doesn't exist while trying to open it for reading?**"
      ],
      "metadata": {
        "id": "FjJVJucDblar"
      }
    },
    {
      "cell_type": "code",
      "source": [
        "try:\n",
        "    with open('nonexistent.txt', 'r') as f:\n",
        "        content = f.read()\n",
        "except FileNotFoundError:\n",
        "    print(\"File not found\")"
      ],
      "metadata": {
        "colab": {
          "base_uri": "https://localhost:8080/"
        },
        "id": "XtaPjQhNcUx2",
        "outputId": "9f69b3a6-ab7d-4dfa-b00c-8d12d5e97486"
      },
      "execution_count": null,
      "outputs": [
        {
          "output_type": "stream",
          "name": "stdout",
          "text": [
            "File not found\n"
          ]
        }
      ]
    },
    {
      "cell_type": "markdown",
      "source": [
        "**Question 4:Write a Python script that reads from one file and writes its content to another file.**"
      ],
      "metadata": {
        "id": "v3K5jp6wd4co"
      }
    },
    {
      "cell_type": "code",
      "source": [
        "# Create a dummy source file for demonstration\n",
        "with open('source.txt', 'w') as f:\n",
        "    f.write(\"This is the content of the source file.\")\n",
        "\n",
        "with open('source.txt', 'r') as src, open('dest.txt', 'w') as dest:\n",
        "      dest.write(src.read())\n",
        "\n",
        "# Optional: Verify the content of the destination file\n",
        "with open('dest.txt', 'r') as dest:\n",
        "    print(\"Content of dest.txt:\")\n",
        "    print(dest.read())"
      ],
      "metadata": {
        "colab": {
          "base_uri": "https://localhost:8080/"
        },
        "id": "BhFmyZpneGKl",
        "outputId": "ca8046f0-adc1-41e7-cd02-02a1e72097bc"
      },
      "execution_count": null,
      "outputs": [
        {
          "output_type": "stream",
          "name": "stdout",
          "text": [
            "Content of dest.txt:\n",
            "This is the content of the source file.\n"
          ]
        }
      ]
    },
    {
      "cell_type": "markdown",
      "source": [
        "**Question 5:How would you catch and handle division by zero error in Python?**"
      ],
      "metadata": {
        "id": "tx8O_Ka2eXIV"
      }
    },
    {
      "cell_type": "code",
      "source": [
        "try:\n",
        "    result = 10 / 0\n",
        "except ZeroDivisionError:\n",
        "    print(\"Cannot divide by zero\")"
      ],
      "metadata": {
        "colab": {
          "base_uri": "https://localhost:8080/"
        },
        "id": "4DGmUh5Kef_P",
        "outputId": "68873d9f-7130-4ab3-e08d-fbf3e8d73bcc"
      },
      "execution_count": null,
      "outputs": [
        {
          "output_type": "stream",
          "name": "stdout",
          "text": [
            "Cannot divide by zero\n"
          ]
        }
      ]
    },
    {
      "cell_type": "markdown",
      "source": [
        "**Question 6:Write a Python program that logs an error message to a log file when a division by zero exception occurs.**"
      ],
      "metadata": {
        "id": "O0ZyZp9BesQo"
      }
    },
    {
      "cell_type": "code",
      "source": [
        "import logging\n",
        "\n",
        "logging.basicConfig(filename='error.log', level=logging.ERROR)\n",
        "\n",
        "try:\n",
        "    result = 10 / 0\n",
        "except ZeroDivisionError:\n",
        "    logging.error(\"Division by zero attempted\")"
      ],
      "metadata": {
        "colab": {
          "base_uri": "https://localhost:8080/"
        },
        "id": "jNKSrh7ke0OK",
        "outputId": "5394550c-a4dc-4f2d-a801-9c94adea3e38"
      },
      "execution_count": null,
      "outputs": [
        {
          "output_type": "stream",
          "name": "stderr",
          "text": [
            "ERROR:root:Division by zero attempted\n"
          ]
        }
      ]
    },
    {
      "cell_type": "markdown",
      "source": [
        "**Question 7:How do you log information at different levels (INFO, ERROR, WARNING) in Python using the logging module?**"
      ],
      "metadata": {
        "id": "Te4OJZYP0Cyq"
      }
    },
    {
      "cell_type": "code",
      "source": [
        "import logging\n",
        "\n",
        "logging.basicConfig(level=logging.DEBUG)\n",
        "logging.debug(\"Debug message\")\n",
        "logging.info(\"Info message\")\n",
        "logging.warning(\"Warning message\")\n",
        "logging.error(\"Error message\")\n",
        "logging.critical(\"Critical message\")"
      ],
      "metadata": {
        "colab": {
          "base_uri": "https://localhost:8080/"
        },
        "id": "ZIBKC2hP0Q5f",
        "outputId": "4d0b5daf-5604-47d3-a064-0b5a296eb696"
      },
      "execution_count": null,
      "outputs": [
        {
          "output_type": "stream",
          "name": "stderr",
          "text": [
            "WARNING:root:Warning message\n",
            "ERROR:root:Error message\n",
            "CRITICAL:root:Critical message\n"
          ]
        }
      ]
    },
    {
      "cell_type": "markdown",
      "source": [
        "**Question 8:Write a program to handle a file opening error using exception handling.**"
      ],
      "metadata": {
        "id": "XaluX2qD0gyb"
      }
    },
    {
      "cell_type": "code",
      "source": [
        "try:\n",
        "    with open('missing.txt', 'r') as f:\n",
        "        content = f.read()\n",
        "except IOError as e:\n",
        "    print(f\"Error opening file: {e}\")"
      ],
      "metadata": {
        "colab": {
          "base_uri": "https://localhost:8080/"
        },
        "id": "PZ4Hd0g10rYO",
        "outputId": "b9ea0a63-3e69-4216-d3b2-003383f791bb"
      },
      "execution_count": null,
      "outputs": [
        {
          "output_type": "stream",
          "name": "stdout",
          "text": [
            "Error opening file: [Errno 2] No such file or directory: 'missing.txt'\n"
          ]
        }
      ]
    },
    {
      "cell_type": "markdown",
      "source": [
        "**Question 9:How can you read a file line by line and store its content in a list in Python?**"
      ],
      "metadata": {
        "id": "GBmiDVji1Opt"
      }
    },
    {
      "cell_type": "code",
      "source": [
        "try:\n",
        "    with open('file.txt', 'r') as f:\n",
        "        lines = f.readlines()\n",
        "    print(lines) # Add this line to see the content of the list\n",
        "except FileNotFoundError:\n",
        "    print(\"Error: The file 'file.txt' was not found.\")\n",
        "except Exception as e:\n",
        "    print(f\"An error occurred: {e}\")"
      ],
      "metadata": {
        "colab": {
          "base_uri": "https://localhost:8080/"
        },
        "id": "j9aOcgQl1drt",
        "outputId": "72bdf1d8-795c-45a7-c0a9-0048807b273d"
      },
      "execution_count": null,
      "outputs": [
        {
          "output_type": "stream",
          "name": "stdout",
          "text": [
            "Error: The file 'file.txt' was not found.\n"
          ]
        }
      ]
    },
    {
      "cell_type": "markdown",
      "source": [
        "**Question 10:How can you append data to an existing file in Python?**"
      ],
      "metadata": {
        "id": "y-Tzjn732gi1"
      }
    },
    {
      "cell_type": "code",
      "source": [
        "with open('file.txt', 'a') as f:\n",
        " f.write(\"New content\\n\")"
      ],
      "metadata": {
        "id": "D_gQbJpl2vvZ"
      },
      "execution_count": null,
      "outputs": []
    },
    {
      "cell_type": "markdown",
      "source": [
        "**Question 11:Write a Python program that uses a try-except block to handle an error when attempting to access a\n",
        "dictionary key that doesn't exist.**"
      ],
      "metadata": {
        "id": "e-wI4bwC3Fll"
      }
    },
    {
      "cell_type": "code",
      "source": [
        "d = {'a': 1, 'b': 2}\n",
        "try:\n",
        "    value = d['c']\n",
        "except KeyError:\n",
        "    print(\"Key not found\")"
      ],
      "metadata": {
        "colab": {
          "base_uri": "https://localhost:8080/"
        },
        "id": "wR3nVotG3MrL",
        "outputId": "7e8447d1-00d9-4a09-cbea-7ff020a498fb"
      },
      "execution_count": null,
      "outputs": [
        {
          "output_type": "stream",
          "name": "stdout",
          "text": [
            "Key not found\n"
          ]
        }
      ]
    },
    {
      "cell_type": "markdown",
      "source": [
        "**Question 12:Write a program that demonstrates using multiple except blocks to handle different types of exceptions.**"
      ],
      "metadata": {
        "id": "nSWYlbBx3XiL"
      }
    },
    {
      "cell_type": "code",
      "source": [
        "try:\n",
        "    # code that might raise exceptions\n",
        "    result = 10 / 0\n",
        "    value = d['missing']\n",
        "except ZeroDivisionError:\n",
        "    print(\"Division by zero\")\n",
        "except KeyError:\n",
        "    print(\"Key not found\")\n",
        "except Exception as e:\n",
        "    print(f\"Other error: {e}\")"
      ],
      "metadata": {
        "colab": {
          "base_uri": "https://localhost:8080/"
        },
        "id": "_wzJHM333esx",
        "outputId": "d9afe89d-6418-46f5-d2d3-bbcf929718df"
      },
      "execution_count": null,
      "outputs": [
        {
          "output_type": "stream",
          "name": "stdout",
          "text": [
            "Division by zero\n"
          ]
        }
      ]
    },
    {
      "cell_type": "markdown",
      "source": [
        "**Question 13:How would you check if a file exists before attempting to read it in Python?**"
      ],
      "metadata": {
        "id": "vJvwKLG-3pzy"
      }
    },
    {
      "cell_type": "code",
      "source": [
        "import os\n",
        "\n",
        "if os.path.exists('file.txt'):\n",
        "    with open('file.txt', 'r') as f:\n",
        "        content = f.read()\n",
        "else:\n",
        "    print(\"File doesn't exist\")"
      ],
      "metadata": {
        "id": "vB-fyQ6J30AN"
      },
      "execution_count": null,
      "outputs": []
    },
    {
      "cell_type": "markdown",
      "source": [
        "**Question 14:Write a program that uses the logging module to log both informational and error messages.**"
      ],
      "metadata": {
        "id": "0OCkqQ0F3_cP"
      }
    },
    {
      "cell_type": "code",
      "source": [
        "import logging\n",
        "\n",
        "logging.basicConfig(filename='app.log', level=logging.INFO)\n",
        "\n",
        "logging.info(\"Program started\")\n",
        "try:\n",
        "    result = 10 / 0\n",
        "except ZeroDivisionError:\n",
        "    logging.error(\"Division by zero occurred\")\n",
        "logging.info(\"Program ended\")"
      ],
      "metadata": {
        "colab": {
          "base_uri": "https://localhost:8080/"
        },
        "id": "lkjE_YMx4HN6",
        "outputId": "5a01b541-f58d-4e19-84b1-005c2f848bfe"
      },
      "execution_count": null,
      "outputs": [
        {
          "output_type": "stream",
          "name": "stderr",
          "text": [
            "ERROR:root:Division by zero occurred\n"
          ]
        }
      ]
    },
    {
      "cell_type": "markdown",
      "source": [
        "**Question 15:Write a Python program that prints the content of a file and handles the case when the file is empty.**"
      ],
      "metadata": {
        "id": "A19tvtEU4VMo"
      }
    },
    {
      "cell_type": "code",
      "source": [
        "with open('file.txt', 'r') as f:\n",
        "    content = f.read()\n",
        "    if not content:\n",
        "        print(\"File is empty\")\n",
        "    else:\n",
        "        print(content)"
      ],
      "metadata": {
        "colab": {
          "base_uri": "https://localhost:8080/"
        },
        "id": "JADBut3w4bsj",
        "outputId": "0f9817c2-b3de-4ea6-d0ec-ad5385028029"
      },
      "execution_count": null,
      "outputs": [
        {
          "output_type": "stream",
          "name": "stdout",
          "text": [
            "New content\n",
            "New content\n",
            "New content\n",
            "New content\n",
            "New content\n",
            "\n"
          ]
        }
      ]
    },
    {
      "cell_type": "markdown",
      "source": [
        "**Question 16:Demonstrate how to use memory profiling to check the memory usage of a small program.**"
      ],
      "metadata": {
        "id": "Fel2C3vC4rGn"
      }
    },
    {
      "cell_type": "code",
      "source": [
        "import tracemalloc\n",
        "tracemalloc.start()\n",
        "a = [i for i in range(1000000)]\n",
        "print(tracemalloc.get_traced_memory())\n",
        "tracemalloc.stop()"
      ],
      "metadata": {
        "colab": {
          "base_uri": "https://localhost:8080/"
        },
        "id": "NtBsmHx0aTFc",
        "outputId": "a255ff64-01db-48ab-da25-c73ef127cf30"
      },
      "execution_count": 1,
      "outputs": [
        {
          "output_type": "stream",
          "name": "stdout",
          "text": [
            "(40443722, 40455010)\n"
          ]
        }
      ]
    },
    {
      "cell_type": "markdown",
      "source": [
        "**Question 17:Write a Python program to create and write a list of numbers to a file, one number per line.**"
      ],
      "metadata": {
        "id": "8UdncUd7as-N"
      }
    },
    {
      "cell_type": "code",
      "source": [
        "numbers = [1, 2, 3, 4, 5]\n",
        "with open('numbers.txt', 'w') as f:\n",
        "    for num in numbers:\n",
        "            f.write(f\"{num}\\n\")"
      ],
      "metadata": {
        "id": "GpVoj1Via47z"
      },
      "execution_count": 3,
      "outputs": []
    },
    {
      "cell_type": "markdown",
      "source": [
        "**Question 18:How would you implement a basic logging setup that logs to a file with rotation after 1MB?**"
      ],
      "metadata": {
        "id": "u0SdYjKFbJYU"
      }
    },
    {
      "cell_type": "code",
      "source": [
        "import logging\n",
        "from logging.handlers import RotatingFileHandler\n",
        "\n",
        "handler = RotatingFileHandler('app.log', maxBytes=1024*1024, backupCount=5)\n",
        "logging.basicConfig(handlers=[handler], level=logging.INFO)\n",
        "logging.info(\"This will be written to a rotating log file\")"
      ],
      "metadata": {
        "colab": {
          "base_uri": "https://localhost:8080/"
        },
        "id": "hlvSEL-7cL7t",
        "outputId": "afb28ac2-ac76-42ff-921d-ff80e5d6a510"
      },
      "execution_count": 6,
      "outputs": [
        {
          "output_type": "stream",
          "name": "stderr",
          "text": [
            "INFO:root:This will be written to a rotating log file\n"
          ]
        }
      ]
    },
    {
      "cell_type": "markdown",
      "source": [
        "**Question 19:Write a program that handles both IndexError and KeyError using a try-except block.**"
      ],
      "metadata": {
        "id": "d29o6hvIcTYe"
      }
    },
    {
      "cell_type": "code",
      "source": [
        "try:\n",
        "    lst = [1]\n",
        "    print(lst[5])\n",
        "except IndexError:\n",
        "    print(\"Index error\")\n",
        "    try:\n",
        "        d = {}\n",
        "        print(d[\"key\"])\n",
        "    except KeyError:\n",
        "        print(\"Key error\")"
      ],
      "metadata": {
        "colab": {
          "base_uri": "https://localhost:8080/"
        },
        "id": "RrM5tIfAccsR",
        "outputId": "b4aa9f30-8ee2-442c-812d-81c01a3f41d7"
      },
      "execution_count": 8,
      "outputs": [
        {
          "output_type": "stream",
          "name": "stdout",
          "text": [
            "Index error\n",
            "Key error\n"
          ]
        }
      ]
    },
    {
      "cell_type": "markdown",
      "source": [
        "**Question 20:How would you open a file and read its contents using a context manager in Python?**"
      ],
      "metadata": {
        "id": "OUuLr45McwUa"
      }
    },
    {
      "cell_type": "code",
      "source": [
        "with open('file.txt', 'r') as f:\n",
        "      content = f.read()"
      ],
      "metadata": {
        "id": "lXtLLOxldOrK"
      },
      "execution_count": 11,
      "outputs": []
    },
    {
      "cell_type": "markdown",
      "source": [
        "**Question 21:Write a Python program that reads a file and prints the number of occurrences of a specific word.**"
      ],
      "metadata": {
        "id": "uKa2bEv_dUY3"
      }
    },
    {
      "cell_type": "code",
      "source": [
        "def count_word(filename, word):\n",
        "    count = 0\n",
        "    with open(filename, 'r') as f:\n",
        "        for line in f:\n",
        "            count += line.lower().count(word.lower())\n",
        "    return count\n",
        "\n",
        "print(count_word('file.txt', 'Python'))"
      ],
      "metadata": {
        "colab": {
          "base_uri": "https://localhost:8080/"
        },
        "id": "C7kWFSKtdbsD",
        "outputId": "fc17353b-228f-4375-bd9c-3f1109f88ee5"
      },
      "execution_count": 13,
      "outputs": [
        {
          "output_type": "stream",
          "name": "stdout",
          "text": [
            "0\n"
          ]
        }
      ]
    },
    {
      "cell_type": "markdown",
      "source": [
        "**Question 22:How can you check if a file is empty before attempting to read its contents?**"
      ],
      "metadata": {
        "id": "OCPxJX2ldwZp"
      }
    },
    {
      "cell_type": "code",
      "source": [
        "import os\n",
        "if os.stat(\"file.txt\").st_size == 0:\n",
        "    print(\"Empty file\")"
      ],
      "metadata": {
        "id": "1-YjDcMheKDY"
      },
      "execution_count": 16,
      "outputs": []
    },
    {
      "cell_type": "markdown",
      "source": [
        "**Question 23:Write a Python program that writes to a log file when an error occurs during file handling.**"
      ],
      "metadata": {
        "id": "d-BqJdrzeV1H"
      }
    },
    {
      "cell_type": "code",
      "source": [
        "import logging\n",
        "\n",
        "logging.basicConfig(filename='file_errors.log', level=logging.ERROR)\n",
        "\n",
        "try:\n",
        "    with open('missing.txt', 'r') as f:\n",
        "        content = f.read()\n",
        "except IOError as e:\n",
        "    logging.error(f\"Error handling file: {e}\")"
      ],
      "metadata": {
        "colab": {
          "base_uri": "https://localhost:8080/"
        },
        "id": "3uV10HMVelB4",
        "outputId": "65e3e121-80aa-459f-e91b-49fa7d37bc7d"
      },
      "execution_count": 20,
      "outputs": [
        {
          "output_type": "stream",
          "name": "stderr",
          "text": [
            "ERROR:root:Error handling file: [Errno 2] No such file or directory: 'missing.txt'\n"
          ]
        }
      ]
    }
  ]
}